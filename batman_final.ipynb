{
  "nbformat": 4,
  "nbformat_minor": 0,
  "metadata": {
    "colab": {
      "name": "batman.ipynb",
      "provenance": []
    },
    "kernelspec": {
      "name": "python3",
      "display_name": "Python 3"
    }
  },
  "cells": [
    {
      "cell_type": "code",
      "metadata": {
        "id": "43vfHugn4uRI",
        "colab_type": "code",
        "colab": {}
      },
      "source": [
        "# !pip install celluloid"
      ],
      "execution_count": 1,
      "outputs": []
    },
    {
      "cell_type": "code",
      "metadata": {
        "id": "TRfZoB3j5uCQ",
        "colab_type": "code",
        "colab": {}
      },
      "source": [
        "import math\n",
        "import numpy as np\n",
        "import matplotlib.pyplot as plt\n",
        "from matplotlib.animation import FuncAnimation\n",
        "import time\n",
        "from itertools import count\n",
        "# from celluloid import Camera\n",
        "import plotly.express as px"
      ],
      "execution_count": 2,
      "outputs": []
    },
    {
      "cell_type": "code",
      "metadata": {
        "id": "9M2gj4pn5Hz-",
        "colab_type": "code",
        "colab": {}
      },
      "source": [
        "Y = np.zeros((0))\n",
        "X = np.arange(-4,4,0.01)"
      ],
      "execution_count": 3,
      "outputs": []
    },
    {
      "cell_type": "code",
      "metadata": {
        "id": "dOsAI-OXVZUT",
        "colab_type": "code",
        "colab": {}
      },
      "source": [
        "\n",
        "for x in X:\n",
        "  Y = np.append(Y, abs(x/2)-((3*math.sqrt(33)-7)/112)*x**2 + math.sqrt(1-(abs(abs(x)-2)-1)**2)-3)\n",
        "\n",
        "  "
      ],
      "execution_count": 4,
      "outputs": []
    },
    {
      "cell_type": "code",
      "metadata": {
        "id": "wa1W8gWTXV1b",
        "colab_type": "code",
        "colab": {}
      },
      "source": [
        "X1 = np.append(np.arange(-7,-3, 0.02), np.arange(3,7,0.02))\n",
        "Y1 = np.zeros((0))\n",
        "for x in X1:\n",
        "  Y1 = np.append(Y1,3*math.sqrt(1-(x/7)**2))\n",
        "X = np.append(X, X1)\n",
        "Y = np.append(Y, Y1)"
      ],
      "execution_count": 5,
      "outputs": []
    },
    {
      "cell_type": "code",
      "metadata": {
        "id": "ERHmGx4NXTmD",
        "colab_type": "code",
        "colab": {}
      },
      "source": [
        "X1 = np.append(np.arange(-7,-4, 0.02), np.arange(4,7,0.02))\n",
        "Y1 = np.zeros((0))\n",
        "for x in X1:\n",
        "  Y1 = np.append(Y1,-3*math.sqrt(1-(x/7)**2))\n",
        "X = np.append(X, X1)\n",
        "Y = np.append(Y, Y1)"
      ],
      "execution_count": 6,
      "outputs": []
    },
    {
      "cell_type": "code",
      "metadata": {
        "id": "KgS_F1V5XRMk",
        "colab_type": "code",
        "colab": {}
      },
      "source": [
        "X1 = np.append(np.arange(-1, -0.8, 0.02), np.arange(0.8, 1, 0.02))\n",
        "Y1 = np.zeros((0))\n",
        "for x in X1:\n",
        "  Y1 = np.append(Y1,9-8*abs(x))\n",
        "X = np.append(X, X1)\n",
        "Y = np.append(Y, Y1)"
      ],
      "execution_count": 7,
      "outputs": []
    },
    {
      "cell_type": "code",
      "metadata": {
        "id": "MMEiei4TiKn-",
        "colab_type": "code",
        "colab": {}
      },
      "source": [
        "X1 = np.arange(-0.5, 0.5, 0.02)\n",
        "Y1 = np.zeros((0))\n",
        "for x in X1:\n",
        "  Y1 = np.append(Y1,2)\n",
        "X = np.append(X, X1)\n",
        "Y = np.append(Y, Y1)"
      ],
      "execution_count": 8,
      "outputs": []
    },
    {
      "cell_type": "code",
      "metadata": {
        "id": "inO9aTAdnBM6",
        "colab_type": "code",
        "colab": {}
      },
      "source": [
        "X1 = np.append(np.arange(-2.9,-1,.02), np.arange(1, 2.9,.02))\n",
        "Y1 = np.zeros((0))\n",
        "for x in X1:\n",
        "  Y1 = np.append(Y1, 1.5 - .5*abs(x) - 1.89736*(math.sqrt(3-x**2+2*abs(x))-2) )\n",
        "X = np.append(X,X1)\n",
        "Y = np.append(Y, Y1)"
      ],
      "execution_count": 9,
      "outputs": []
    },
    {
      "cell_type": "code",
      "metadata": {
        "id": "tHDyCOE_oFUz",
        "colab_type": "code",
        "colab": {
          "base_uri": "https://localhost:8080/",
          "height": 282
        },
        "outputId": "816a1da7-f3d5-4666-bc8d-d7474a46c358"
      },
      "source": [
        "X1 = np.append(np.arange(-.7,-.45,.02), np.arange(.45, .7,.02))\n",
        "Y1 = np.zeros((0))\n",
        "for x in X1:\n",
        "  Y1 = np.append(Y1, 3*abs(x)+.75)\n",
        "X = np.append(X,X1)\n",
        "Y = np.append(Y, Y1)\n",
        "xlist = X.tolist()\n",
        "ylist = Y.tolist()\n",
        "plt.scatter(xlist, ylist, c = 'red')\n",
        "print(len(xlist))"
      ],
      "execution_count": 10,
      "outputs": [
        {
          "output_type": "stream",
          "text": [
            "1786\n"
          ],
          "name": "stdout"
        },
        {
          "output_type": "display_data",
          "data": {
            "image/png": "[encoded data removed]",
            "text/plain": [
              "<Figure size 432x288 with 1 Axes>"
            ]
          },
          "metadata": {
            "tags": [],
            "needs_background": "light"
          }
        }
      ]
    },
    {
      "cell_type": "code",
      "metadata": {
        "id": "Rl65oX4Ins_A",
        "colab_type": "code",
        "colab": {}
      },
      "source": [
        "# import numpy as np\n",
        "# import matplotlib\n",
        "# from matplotlib import pyplot as plt\n",
        "# from matplotlib.animation import FuncAnimation\n",
        "# from matplotlib import rc\n",
        "# rc('animation', html='jshtml')\n",
        "# plt.style.use('seaborn-pastel')\n",
        "# matplotlib.rcParams['animation.embed_limit'] = 2**128\n",
        "\n",
        "# fig = plt.figure()\n",
        "# ax = plt.axes(xlim=(-8, 8), ylim=(-4, 4))\n",
        "# ax.set_facecolor('b')\n",
        "# scat = ax.scatter([], [], s=60, c = 'red')\n",
        "# def init():\n",
        "#     scat.set_offsets([])\n",
        "#     return scat,\n",
        "# def animate(i, X, Y):\n",
        "#     data = np.hstack((X[:i,np.newaxis], Y[:i, np.newaxis]))\n",
        "#     scat.set_offsets(data)\n",
        "#     return scat,\n",
        "\n",
        "\n",
        "# anim = FuncAnimation(fig, animate, init_func=init,frames=len(xlist), fargs = [X, Y], interval=5, blit=True)\n",
        "\n",
        "\n",
        "\n",
        "# anim"
      ],
      "execution_count": 16,
      "outputs": []
    },
    {
      "cell_type": "code",
      "metadata": {
        "id": "s4Yjr8GZtAla",
        "colab_type": "code",
        "colab": {}
      },
      "source": [
        "\n"
      ],
      "execution_count": 12,
      "outputs": []
    }
  ]
}